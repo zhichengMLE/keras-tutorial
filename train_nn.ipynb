{
 "cells": [
  {
   "cell_type": "markdown",
   "metadata": {},
   "source": [
    "# Train NN"
   ]
  },
  {
   "cell_type": "code",
   "execution_count": 29,
   "metadata": {},
   "outputs": [],
   "source": [
    "import numpy as np\n",
    "import random\n",
    "from sklearn.preprocessing import MinMaxScaler"
   ]
  },
  {
   "cell_type": "code",
   "execution_count": 30,
   "metadata": {},
   "outputs": [],
   "source": [
    "import keras\n",
    "from keras.models import Sequential\n",
    "from keras.layers import Activation\n",
    "from keras.layers.core import Dense\n",
    "from keras.optimizers import Adam"
   ]
  },
  {
   "cell_type": "markdown",
   "metadata": {},
   "source": [
    "## Generate Fake Data"
   ]
  },
  {
   "cell_type": "code",
   "execution_count": 31,
   "metadata": {},
   "outputs": [],
   "source": [
    "x_train = []\n",
    "y_train = []"
   ]
  },
  {
   "cell_type": "code",
   "execution_count": 32,
   "metadata": {},
   "outputs": [],
   "source": [
    "for i in range(1000):\n",
    "    random_young = random.randint(13, 64)\n",
    "    x_train.append(random_young)\n",
    "    y_train.append(0)\n",
    "    \n",
    "    random_old = random.randint(65, 100)\n",
    "    x_train.append(random_old)\n",
    "    y_train.append(1)\n",
    "    \n",
    "for i in range(50):\n",
    "    random_young = random.randint(13, 64)\n",
    "    x_train.append(random_young)\n",
    "    y_train.append(1)\n",
    "    \n",
    "    random_old = random.randint(65, 100)\n",
    "    x_train.append(random_old)\n",
    "    y_train.append(0)"
   ]
  },
  {
   "cell_type": "code",
   "execution_count": 33,
   "metadata": {},
   "outputs": [
    {
     "name": "stdout",
     "output_type": "stream",
     "text": [
      "(2100,)\n",
      "(2100,)\n"
     ]
    }
   ],
   "source": [
    "x_train = np.array(x_train)\n",
    "y_train = np.array(y_train)\n",
    "\n",
    "print(x_train.shape)\n",
    "print(y_train.shape)"
   ]
  },
  {
   "cell_type": "markdown",
   "metadata": {},
   "source": [
    "## Preprocessing"
   ]
  },
  {
   "cell_type": "code",
   "execution_count": 34,
   "metadata": {},
   "outputs": [
    {
     "name": "stderr",
     "output_type": "stream",
     "text": [
      "e:\\Anaconda3\\lib\\site-packages\\sklearn\\utils\\validation.py:475: DataConversionWarning: Data with input dtype int32 was converted to float64 by MinMaxScaler.\n",
      "  warnings.warn(msg, DataConversionWarning)\n"
     ]
    }
   ],
   "source": [
    "scaler = MinMaxScaler(feature_range=(0, 1))\n",
    "x_train_scaled = scaler.fit_transform((x_train).reshape(-1, 1))"
   ]
  },
  {
   "cell_type": "code",
   "execution_count": 35,
   "metadata": {},
   "outputs": [
    {
     "name": "stdout",
     "output_type": "stream",
     "text": [
      "100\n",
      "13\n",
      "[1.]\n",
      "[0.]\n"
     ]
    }
   ],
   "source": [
    "print(max(x_train))\n",
    "print(min(x_train))\n",
    "print(max(x_train_scaled))\n",
    "print(min(x_train_scaled))"
   ]
  },
  {
   "cell_type": "markdown",
   "metadata": {},
   "source": [
    "## Build NN"
   ]
  },
  {
   "cell_type": "code",
   "execution_count": 36,
   "metadata": {},
   "outputs": [],
   "source": [
    "model = keras.models.Sequential([\n",
    "    Dense(16, input_shape=(1,), activation='relu'),\n",
    "    Dense(32, activation='relu'),\n",
    "    Dense(2, activation='softmax')\n",
    "])"
   ]
  },
  {
   "cell_type": "code",
   "execution_count": 37,
   "metadata": {},
   "outputs": [
    {
     "name": "stdout",
     "output_type": "stream",
     "text": [
      "_________________________________________________________________\n",
      "Layer (type)                 Output Shape              Param #   \n",
      "=================================================================\n",
      "dense_4 (Dense)              (None, 16)                32        \n",
      "_________________________________________________________________\n",
      "dense_5 (Dense)              (None, 32)                544       \n",
      "_________________________________________________________________\n",
      "dense_6 (Dense)              (None, 2)                 66        \n",
      "=================================================================\n",
      "Total params: 642\n",
      "Trainable params: 642\n",
      "Non-trainable params: 0\n",
      "_________________________________________________________________\n"
     ]
    }
   ],
   "source": [
    "model.summary()"
   ]
  },
  {
   "cell_type": "markdown",
   "metadata": {},
   "source": [
    "## Train NN"
   ]
  },
  {
   "cell_type": "code",
   "execution_count": 38,
   "metadata": {},
   "outputs": [],
   "source": [
    "model.compile(Adam(lr=.0001), loss='sparse_categorical_crossentropy', metrics=['accuracy'])"
   ]
  },
  {
   "cell_type": "code",
   "execution_count": 39,
   "metadata": {},
   "outputs": [
    {
     "name": "stdout",
     "output_type": "stream",
     "text": [
      "Epoch 1/20\n",
      "2100/2100 [==============================] - 0s 161us/step - loss: 0.6572 - acc: 0.5476\n",
      "Epoch 2/20\n",
      "2100/2100 [==============================] - 0s 94us/step - loss: 0.6243 - acc: 0.6519\n",
      "Epoch 3/20\n",
      "2100/2100 [==============================] - 0s 96us/step - loss: 0.5909 - acc: 0.7129\n",
      "Epoch 4/20\n",
      "2100/2100 [==============================] - 0s 98us/step - loss: 0.5573 - acc: 0.7695\n",
      "Epoch 5/20\n",
      "2100/2100 [==============================] - 0s 95us/step - loss: 0.5226 - acc: 0.8005\n",
      "Epoch 6/20\n",
      "2100/2100 [==============================] - 0s 103us/step - loss: 0.4878 - acc: 0.8276\n",
      "Epoch 7/20\n",
      "2100/2100 [==============================] - 0s 98us/step - loss: 0.4533 - acc: 0.8486\n",
      "Epoch 8/20\n",
      "2100/2100 [==============================] - 0s 96us/step - loss: 0.4212 - acc: 0.8771\n",
      "Epoch 9/20\n",
      "2100/2100 [==============================] - 0s 93us/step - loss: 0.3917 - acc: 0.8910\n",
      "Epoch 10/20\n",
      "2100/2100 [==============================] - 0s 106us/step - loss: 0.3659 - acc: 0.9010\n",
      "Epoch 11/20\n",
      "2100/2100 [==============================] - 0s 109us/step - loss: 0.3443 - acc: 0.9095\n",
      "Epoch 12/20\n",
      "2100/2100 [==============================] - 0s 117us/step - loss: 0.3261 - acc: 0.9162\n",
      "Epoch 13/20\n",
      "2100/2100 [==============================] - 0s 124us/step - loss: 0.3106 - acc: 0.9181\n",
      "Epoch 14/20\n",
      "2100/2100 [==============================] - 0s 125us/step - loss: 0.2982 - acc: 0.9271\n",
      "Epoch 15/20\n",
      "2100/2100 [==============================] - 0s 108us/step - loss: 0.2879 - acc: 0.9314\n",
      "Epoch 16/20\n",
      "2100/2100 [==============================] - 0s 92us/step - loss: 0.2799 - acc: 0.9281\n",
      "Epoch 17/20\n",
      "2100/2100 [==============================] - 0s 95us/step - loss: 0.2733 - acc: 0.9343\n",
      "Epoch 18/20\n",
      "2100/2100 [==============================] - 0s 96us/step - loss: 0.2676 - acc: 0.9329\n",
      "Epoch 19/20\n",
      "2100/2100 [==============================] - 0s 100us/step - loss: 0.2634 - acc: 0.9386\n",
      "Epoch 20/20\n",
      "2100/2100 [==============================] - 0s 101us/step - loss: 0.2597 - acc: 0.9362\n"
     ]
    },
    {
     "data": {
      "text/plain": [
       "<keras.callbacks.History at 0x1624ba726d8>"
      ]
     },
     "execution_count": 39,
     "metadata": {},
     "output_type": "execute_result"
    }
   ],
   "source": [
    "model.fit(x_train_scaled, y_train, batch_size=10, epochs=20, shuffle=True, verbose=True)"
   ]
  },
  {
   "cell_type": "code",
   "execution_count": null,
   "metadata": {},
   "outputs": [],
   "source": [
    "mode."
   ]
  }
 ],
 "metadata": {
  "kernelspec": {
   "display_name": "Python 3",
   "language": "python",
   "name": "python3"
  },
  "language_info": {
   "codemirror_mode": {
    "name": "ipython",
    "version": 3
   },
   "file_extension": ".py",
   "mimetype": "text/x-python",
   "name": "python",
   "nbconvert_exporter": "python",
   "pygments_lexer": "ipython3",
   "version": "3.6.4"
  }
 },
 "nbformat": 4,
 "nbformat_minor": 2
}
