{
 "cells": [
  {
   "cell_type": "markdown",
   "metadata": {},
   "source": [
    "# Intialize Bias to 0"
   ]
  },
  {
   "cell_type": "code",
   "execution_count": 1,
   "metadata": {},
   "outputs": [
    {
     "name": "stderr",
     "output_type": "stream",
     "text": [
      "e:\\Anaconda3\\lib\\site-packages\\h5py\\__init__.py:36: FutureWarning: Conversion of the second argument of issubdtype from `float` to `np.floating` is deprecated. In future, it will be treated as `np.float64 == np.dtype(float).type`.\n",
      "  from ._conv import register_converters as _register_converters\n",
      "Using TensorFlow backend.\n"
     ]
    }
   ],
   "source": [
    "from keras.models import Sequential\n",
    "from keras.layers import Dense, Activation"
   ]
  },
  {
   "cell_type": "code",
   "execution_count": 5,
   "metadata": {},
   "outputs": [],
   "source": [
    "model = Sequential([\n",
    "    Dense(32, input_shape=(1,), activation='relu', use_bias=True, bias_initializer='zeros'),\n",
    "    Dense(2, activation='softmax')\n",
    "])"
   ]
  },
  {
   "cell_type": "code",
   "execution_count": 6,
   "metadata": {},
   "outputs": [
    {
     "data": {
      "text/plain": [
       "[array([[-0.06949118,  0.07729143, -0.3371694 , -0.40821055, -0.28530115,\n",
       "          0.15823376, -0.17193985,  0.3844753 ,  0.22829366, -0.18331563,\n",
       "          0.02176178, -0.30730975, -0.22726555,  0.27856117,  0.17243028,\n",
       "          0.29775232, -0.3355717 ,  0.09426624, -0.16952255, -0.19983765,\n",
       "          0.18694639,  0.15047717,  0.03033787,  0.02168909, -0.14425394,\n",
       "         -0.09887871,  0.27176118,  0.09890759,  0.2862959 ,  0.35842413,\n",
       "          0.29789716,  0.10707289]], dtype=float32),\n",
       " array([0., 0., 0., 0., 0., 0., 0., 0., 0., 0., 0., 0., 0., 0., 0., 0., 0.,\n",
       "        0., 0., 0., 0., 0., 0., 0., 0., 0., 0., 0., 0., 0., 0., 0.],\n",
       "       dtype=float32),\n",
       " array([[-2.2731979e-01,  2.0837745e-01],\n",
       "        [-5.1154494e-02,  8.0185860e-02],\n",
       "        [-2.0881176e-02, -7.8943223e-02],\n",
       "        [ 1.6014871e-01,  4.0373442e-01],\n",
       "        [ 3.8913366e-01,  2.5710836e-01],\n",
       "        [-2.2221866e-01, -4.1214037e-01],\n",
       "        [-2.0400943e-01,  1.4419487e-01],\n",
       "        [-3.0620694e-01,  1.3210148e-02],\n",
       "        [ 2.8629664e-01, -1.1084667e-01],\n",
       "        [ 1.7644283e-01, -3.8982806e-01],\n",
       "        [ 1.3616624e-01,  2.8889719e-01],\n",
       "        [-5.4387718e-02, -2.0975769e-03],\n",
       "        [ 4.1697511e-01, -4.1080910e-01],\n",
       "        [ 1.7808190e-01, -1.5201423e-01],\n",
       "        [ 3.3092120e-01, -9.6199095e-02],\n",
       "        [-3.5409176e-01, -3.7239271e-01],\n",
       "        [ 2.6185301e-01,  3.2030198e-01],\n",
       "        [-1.9948453e-02,  3.2111534e-01],\n",
       "        [ 3.5421112e-01,  1.6698793e-01],\n",
       "        [-3.7217858e-01,  1.4372936e-01],\n",
       "        [ 3.6692229e-01, -2.9395586e-01],\n",
       "        [ 2.3992220e-01,  7.6062739e-02],\n",
       "        [-4.1708797e-02,  3.8154945e-01],\n",
       "        [-2.4314135e-02,  1.5124562e-01],\n",
       "        [ 3.5744905e-04, -2.7280468e-01],\n",
       "        [ 3.8504511e-02, -1.6378644e-01],\n",
       "        [ 1.8294427e-01, -3.1936902e-01],\n",
       "        [-9.8258793e-02, -6.4989209e-02],\n",
       "        [-4.2440921e-02,  1.9267747e-01],\n",
       "        [ 4.1956022e-01,  8.2060665e-02],\n",
       "        [ 9.5514387e-02,  3.1616655e-01],\n",
       "        [ 6.0078681e-02,  3.8814023e-01]], dtype=float32),\n",
       " array([0., 0.], dtype=float32)]"
      ]
     },
     "execution_count": 6,
     "metadata": {},
     "output_type": "execute_result"
    }
   ],
   "source": [
    "model.get_weights()"
   ]
  }
 ],
 "metadata": {
  "kernelspec": {
   "display_name": "Python 3",
   "language": "python",
   "name": "python3"
  },
  "language_info": {
   "codemirror_mode": {
    "name": "ipython",
    "version": 3
   },
   "file_extension": ".py",
   "mimetype": "text/x-python",
   "name": "python",
   "nbconvert_exporter": "python",
   "pygments_lexer": "ipython3",
   "version": "3.6.4"
  }
 },
 "nbformat": 4,
 "nbformat_minor": 2
}
