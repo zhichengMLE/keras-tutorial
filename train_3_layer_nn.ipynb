{
 "cells": [
  {
   "cell_type": "markdown",
   "metadata": {},
   "source": [
    "# Train 3 Layer NN"
   ]
  },
  {
   "cell_type": "code",
   "execution_count": 1,
   "metadata": {},
   "outputs": [],
   "source": [
    "import numpy as np\n",
    "import random\n",
    "from sklearn.preprocessing import MinMaxScaler\n",
    "from sklearn.model_selection import train_test_split"
   ]
  },
  {
   "cell_type": "code",
   "execution_count": 2,
   "metadata": {},
   "outputs": [
    {
     "name": "stderr",
     "output_type": "stream",
     "text": [
      "e:\\Anaconda3\\lib\\site-packages\\h5py\\__init__.py:36: FutureWarning: Conversion of the second argument of issubdtype from `float` to `np.floating` is deprecated. In future, it will be treated as `np.float64 == np.dtype(float).type`.\n",
      "  from ._conv import register_converters as _register_converters\n",
      "Using TensorFlow backend.\n"
     ]
    }
   ],
   "source": [
    "import keras\n",
    "from keras.models import Sequential\n",
    "from keras.layers import Activation\n",
    "from keras.layers.core import Dense\n",
    "from keras.optimizers import Adam"
   ]
  },
  {
   "cell_type": "markdown",
   "metadata": {},
   "source": [
    "## Generate Fake Data"
   ]
  },
  {
   "cell_type": "code",
   "execution_count": 3,
   "metadata": {},
   "outputs": [],
   "source": [
    "X_train = []\n",
    "y_train = []"
   ]
  },
  {
   "cell_type": "code",
   "execution_count": 4,
   "metadata": {},
   "outputs": [],
   "source": [
    "for i in range(50):\n",
    "    random_young = random.randint(13, 64)\n",
    "    X_train.append(random_young)\n",
    "    y_train.append(0)\n",
    "    \n",
    "    random_old = random.randint(65, 100)\n",
    "    X_train.append(random_old)\n",
    "    y_train.append(1)\n",
    "    \n",
    "for i in range(1000):\n",
    "    random_young = random.randint(13, 64)\n",
    "    X_train.append(random_young)\n",
    "    y_train.append(1)\n",
    "    \n",
    "    random_old = random.randint(65, 100)\n",
    "    X_train.append(random_old)\n",
    "    y_train.append(0)"
   ]
  },
  {
   "cell_type": "code",
   "execution_count": 5,
   "metadata": {},
   "outputs": [
    {
     "name": "stdout",
     "output_type": "stream",
     "text": [
      "(2100,)\n",
      "(2100,)\n"
     ]
    }
   ],
   "source": [
    "X_train = np.array(X_train)\n",
    "y_train = np.array(y_train)\n",
    "\n",
    "print(X_train.shape)\n",
    "print(y_train.shape)"
   ]
  },
  {
   "cell_type": "code",
   "execution_count": 6,
   "metadata": {},
   "outputs": [],
   "source": [
    "X_train, X_test, y_train, y_test = train_test_split(X_train, y_train, test_size=0.2, train_size=0.8)\n",
    "X_train, X_val, y_train, y_val = train_test_split(X_train, y_train, test_size=0.25, train_size=0.75)"
   ]
  },
  {
   "cell_type": "markdown",
   "metadata": {},
   "source": [
    "## Preprocessing"
   ]
  },
  {
   "cell_type": "code",
   "execution_count": 7,
   "metadata": {},
   "outputs": [
    {
     "name": "stderr",
     "output_type": "stream",
     "text": [
      "e:\\Anaconda3\\lib\\site-packages\\sklearn\\utils\\validation.py:475: DataConversionWarning: Data with input dtype int32 was converted to float64 by MinMaxScaler.\n",
      "  warnings.warn(msg, DataConversionWarning)\n"
     ]
    }
   ],
   "source": [
    "scaler = MinMaxScaler(feature_range=(0, 1))\n",
    "X_train_scaled = scaler.fit_transform((X_train).reshape(-1, 1))\n",
    "X_test_scaled = scaler.fit_transform((X_test).reshape(-1, 1))\n",
    "X_val_scaled = scaler.fit_transform((X_val).reshape(-1, 1))"
   ]
  },
  {
   "cell_type": "code",
   "execution_count": 8,
   "metadata": {},
   "outputs": [
    {
     "name": "stdout",
     "output_type": "stream",
     "text": [
      "100\n",
      "13\n",
      "[1.]\n",
      "[0.]\n"
     ]
    }
   ],
   "source": [
    "print(max(X_train))\n",
    "print(min(X_train))\n",
    "print(max(X_train_scaled))\n",
    "print(min(X_train_scaled))"
   ]
  },
  {
   "cell_type": "markdown",
   "metadata": {},
   "source": [
    "## Build NN"
   ]
  },
  {
   "cell_type": "code",
   "execution_count": 9,
   "metadata": {},
   "outputs": [],
   "source": [
    "model = keras.models.Sequential([\n",
    "    Dense(16, input_shape=(1,), activation='relu'),\n",
    "    Dense(32, activation='relu'),\n",
    "    Dense(2, activation='softmax')\n",
    "])"
   ]
  },
  {
   "cell_type": "code",
   "execution_count": 10,
   "metadata": {},
   "outputs": [
    {
     "name": "stdout",
     "output_type": "stream",
     "text": [
      "_________________________________________________________________\n",
      "Layer (type)                 Output Shape              Param #   \n",
      "=================================================================\n",
      "dense_1 (Dense)              (None, 16)                32        \n",
      "_________________________________________________________________\n",
      "dense_2 (Dense)              (None, 32)                544       \n",
      "_________________________________________________________________\n",
      "dense_3 (Dense)              (None, 2)                 66        \n",
      "=================================================================\n",
      "Total params: 642\n",
      "Trainable params: 642\n",
      "Non-trainable params: 0\n",
      "_________________________________________________________________\n"
     ]
    }
   ],
   "source": [
    "model.summary()"
   ]
  },
  {
   "cell_type": "markdown",
   "metadata": {},
   "source": [
    "## Train NN"
   ]
  },
  {
   "cell_type": "code",
   "execution_count": 11,
   "metadata": {},
   "outputs": [],
   "source": [
    "model.compile(Adam(lr=.0001), loss='sparse_categorical_crossentropy', metrics=['accuracy'])"
   ]
  },
  {
   "cell_type": "code",
   "execution_count": 12,
   "metadata": {},
   "outputs": [
    {
     "name": "stdout",
     "output_type": "stream",
     "text": [
      "Train on 1134 samples, validate on 126 samples\n",
      "Epoch 1/20\n",
      "1134/1134 [==============================] - 0s 258us/step - loss: 0.7253 - acc: 0.4533 - val_loss: 0.7128 - val_acc: 0.4841\n",
      "Epoch 2/20\n",
      "1134/1134 [==============================] - 0s 115us/step - loss: 0.7086 - acc: 0.4877 - val_loss: 0.6998 - val_acc: 0.5238\n",
      "Epoch 3/20\n",
      "1134/1134 [==============================] - 0s 118us/step - loss: 0.6942 - acc: 0.5335 - val_loss: 0.6879 - val_acc: 0.6270\n",
      "Epoch 4/20\n",
      "1134/1134 [==============================] - 0s 115us/step - loss: 0.6799 - acc: 0.6587 - val_loss: 0.6749 - val_acc: 0.6190\n",
      "Epoch 5/20\n",
      "1134/1134 [==============================] - 0s 112us/step - loss: 0.6652 - acc: 0.6843 - val_loss: 0.6629 - val_acc: 0.6270\n",
      "Epoch 6/20\n",
      "1134/1134 [==============================] - 0s 117us/step - loss: 0.6511 - acc: 0.6869 - val_loss: 0.6507 - val_acc: 0.6349\n",
      "Epoch 7/20\n",
      "1134/1134 [==============================] - 0s 111us/step - loss: 0.6361 - acc: 0.7072 - val_loss: 0.6364 - val_acc: 0.6667\n",
      "Epoch 8/20\n",
      "1134/1134 [==============================] - 0s 88us/step - loss: 0.6204 - acc: 0.7328 - val_loss: 0.6220 - val_acc: 0.7063\n",
      "Epoch 9/20\n",
      "1134/1134 [==============================] - 0s 91us/step - loss: 0.6041 - acc: 0.7434 - val_loss: 0.6068 - val_acc: 0.7302\n",
      "Epoch 10/20\n",
      "1134/1134 [==============================] - 0s 99us/step - loss: 0.5872 - acc: 0.7575 - val_loss: 0.5909 - val_acc: 0.7381\n",
      "Epoch 11/20\n",
      "1134/1134 [==============================] - 0s 100us/step - loss: 0.5698 - acc: 0.7831 - val_loss: 0.5746 - val_acc: 0.7540\n",
      "Epoch 12/20\n",
      "1134/1134 [==============================] - 0s 104us/step - loss: 0.5521 - acc: 0.7998 - val_loss: 0.5579 - val_acc: 0.7698\n",
      "Epoch 13/20\n",
      "1134/1134 [==============================] - 0s 100us/step - loss: 0.5343 - acc: 0.8051 - val_loss: 0.5410 - val_acc: 0.7778\n",
      "Epoch 14/20\n",
      "1134/1134 [==============================] - 0s 102us/step - loss: 0.5166 - acc: 0.8263 - val_loss: 0.5243 - val_acc: 0.8095\n",
      "Epoch 15/20\n",
      "1134/1134 [==============================] - 0s 105us/step - loss: 0.4993 - acc: 0.8298 - val_loss: 0.5078 - val_acc: 0.8095\n",
      "Epoch 16/20\n",
      "1134/1134 [==============================] - 0s 103us/step - loss: 0.4819 - acc: 0.8395 - val_loss: 0.4912 - val_acc: 0.8175\n",
      "Epoch 17/20\n",
      "1134/1134 [==============================] - 0s 104us/step - loss: 0.4653 - acc: 0.8474 - val_loss: 0.4749 - val_acc: 0.8333\n",
      "Epoch 18/20\n",
      "1134/1134 [==============================] - 0s 105us/step - loss: 0.4493 - acc: 0.8527 - val_loss: 0.4594 - val_acc: 0.8413\n",
      "Epoch 19/20\n",
      "1134/1134 [==============================] - 0s 99us/step - loss: 0.4340 - acc: 0.8616 - val_loss: 0.4456 - val_acc: 0.8413\n",
      "Epoch 20/20\n",
      "1134/1134 [==============================] - 0s 103us/step - loss: 0.4197 - acc: 0.8695 - val_loss: 0.4312 - val_acc: 0.8492\n"
     ]
    },
    {
     "data": {
      "text/plain": [
       "<keras.callbacks.History at 0x28955889470>"
      ]
     },
     "execution_count": 12,
     "metadata": {},
     "output_type": "execute_result"
    }
   ],
   "source": [
    "model.fit(X_train_scaled, y_train, validation_split=0.1,\n",
    "          batch_size=10, epochs=20, shuffle=True, verbose=True)"
   ]
  },
  {
   "cell_type": "markdown",
   "metadata": {},
   "source": [
    "## Predict data"
   ]
  },
  {
   "cell_type": "code",
   "execution_count": 13,
   "metadata": {},
   "outputs": [],
   "source": [
    "predictions = model.predict(X_test_scaled, batch_size=10, verbose=0)"
   ]
  },
  {
   "cell_type": "code",
   "execution_count": 16,
   "metadata": {},
   "outputs": [
    {
     "name": "stdout",
     "output_type": "stream",
     "text": [
      "[0.82649326 0.17350674]\n",
      "[0.80778575 0.19221418]\n",
      "[0.7868804  0.21311966]\n",
      "[0.7318715  0.26812845]\n",
      "[0.85404783 0.14595215]\n",
      "[0.84374243 0.15625753]\n",
      "[0.48132578 0.5186742 ]\n",
      "[0.7057174 0.2942826]\n",
      "[0.8318381 0.1681619]\n",
      "[0.24467738 0.7553226 ]\n"
     ]
    }
   ],
   "source": [
    "for index in range(10):\n",
    "    print(predictions[index])"
   ]
  },
  {
   "cell_type": "code",
   "execution_count": 20,
   "metadata": {},
   "outputs": [],
   "source": [
    "predictions_class = model.predict_classes(X_test_scaled, batch_size=10, verbose=0)"
   ]
  },
  {
   "cell_type": "code",
   "execution_count": 21,
   "metadata": {},
   "outputs": [
    {
     "name": "stdout",
     "output_type": "stream",
     "text": [
      "0\n",
      "0\n",
      "0\n",
      "0\n",
      "0\n",
      "0\n",
      "1\n",
      "0\n",
      "0\n",
      "1\n"
     ]
    }
   ],
   "source": [
    "for index in range(10):\n",
    "    print(predictions_class[index])"
   ]
  },
  {
   "cell_type": "markdown",
   "metadata": {},
   "source": [
    "## Plot Confusion Matrix"
   ]
  },
  {
   "cell_type": "code",
   "execution_count": 23,
   "metadata": {},
   "outputs": [],
   "source": [
    "%matplotlib inline\n",
    "from sklearn.metrics import confusion_matrix\n",
    "import itertools\n",
    "import matplotlib.pyplot as plt"
   ]
  },
  {
   "cell_type": "code",
   "execution_count": 25,
   "metadata": {},
   "outputs": [],
   "source": [
    "cm = confusion_matrix(X_test, predictions_class)"
   ]
  },
  {
   "cell_type": "code",
   "execution_count": 26,
   "metadata": {},
   "outputs": [],
   "source": [
    "def plot_confusion_matrix(cm, classes,\n",
    "                          normalize=False,\n",
    "                          title='Confusion matrix',\n",
    "                          cmap=plt.cm.Blues):\n",
    "    \"\"\"\n",
    "    This function prints and plots the confusion matrix.\n",
    "    Normalization can be applied by setting `normalize=True`.\n",
    "    \"\"\"\n",
    "    if normalize:\n",
    "        cm = cm.astype('float') / cm.sum(axis=1)[:, np.newaxis]\n",
    "        print(\"Normalized confusion matrix\")\n",
    "    else:\n",
    "        print('Confusion matrix, without normalization')\n",
    "\n",
    "    print(cm)\n",
    "\n",
    "    plt.imshow(cm, interpolation='nearest', cmap=cmap)\n",
    "    plt.title(title)\n",
    "    plt.colorbar()\n",
    "    tick_marks = np.arange(len(classes))\n",
    "    plt.xticks(tick_marks, classes, rotation=45)\n",
    "    plt.yticks(tick_marks, classes)\n",
    "\n",
    "    fmt = '.2f' if normalize else 'd'\n",
    "    thresh = cm.max() / 2.\n",
    "    for i, j in itertools.product(range(cm.shape[0]), range(cm.shape[1])):\n",
    "        plt.text(j, i, format(cm[i, j], fmt),\n",
    "                 horizontalalignment=\"center\",\n",
    "                 color=\"white\" if cm[i, j] > thresh else \"black\")\n",
    "\n",
    "    plt.tight_layout()\n",
    "    plt.ylabel('True label')\n",
    "    plt.xlabel('Predicted label')"
   ]
  },
  {
   "cell_type": "code",
   "execution_count": 27,
   "metadata": {},
   "outputs": [
    {
     "name": "stdout",
     "output_type": "stream",
     "text": [
      "Confusion matrix, without normalization\n",
      "[[0 0 0 ... 0 0 0]\n",
      " [0 0 0 ... 0 0 0]\n",
      " [0 2 0 ... 0 0 0]\n",
      " ...\n",
      " [5 0 0 ... 0 0 0]\n",
      " [4 0 0 ... 0 0 0]\n",
      " [7 0 0 ... 0 0 0]]\n"
     ]
    },
    {
     "data": {
      "image/png": "[encoded data removed]",
      "text/plain": [
       "<matplotlib.figure.Figure at 0x28956909b38>"
      ]
     },
     "metadata": {},
     "output_type": "display_data"
    }
   ],
   "source": [
    "cm_plot_lables = ['no_side_effects', 'has_side_effects']\n",
    "plot_confusion_matrix(cm, cm_plot_lables, title='confusion_matrix')"
   ]
  }
 ],
 "metadata": {
  "kernelspec": {
   "display_name": "Python 3",
   "language": "python",
   "name": "python3"
  },
  "language_info": {
   "codemirror_mode": {
    "name": "ipython",
    "version": 3
   },
   "file_extension": ".py",
   "mimetype": "text/x-python",
   "name": "python",
   "nbconvert_exporter": "python",
   "pygments_lexer": "ipython3",
   "version": "3.6.4"
  }
 },
 "nbformat": 4,
 "nbformat_minor": 2
}
