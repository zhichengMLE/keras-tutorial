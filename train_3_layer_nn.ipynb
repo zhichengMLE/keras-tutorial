{
 "cells": [
  {
   "cell_type": "markdown",
   "metadata": {},
   "source": [
    "# Train 3 Layer NN"
   ]
  },
  {
   "cell_type": "code",
   "execution_count": 64,
   "metadata": {},
   "outputs": [],
   "source": [
    "import numpy as np\n",
    "import random\n",
    "from sklearn.preprocessing import MinMaxScaler"
   ]
  },
  {
   "cell_type": "code",
   "execution_count": 65,
   "metadata": {},
   "outputs": [],
   "source": [
    "import keras\n",
    "from keras.models import Sequential\n",
    "from keras.layers import Activation\n",
    "from keras.layers.core import Dense\n",
    "from keras.optimizers import Adam"
   ]
  },
  {
   "cell_type": "markdown",
   "metadata": {},
   "source": [
    "## Generate Fake Data"
   ]
  },
  {
   "cell_type": "code",
   "execution_count": 66,
   "metadata": {},
   "outputs": [],
   "source": [
    "x_train = []\n",
    "y_train = []"
   ]
  },
  {
   "cell_type": "code",
   "execution_count": 67,
   "metadata": {},
   "outputs": [],
   "source": [
    "for i in range(50):\n",
    "    random_young = random.randint(13, 64)\n",
    "    x_train.append(random_young)\n",
    "    y_train.append(0)\n",
    "    \n",
    "    random_old = random.randint(65, 100)\n",
    "    x_train.append(random_old)\n",
    "    y_train.append(1)\n",
    "    \n",
    "for i in range(1000):\n",
    "    random_young = random.randint(13, 64)\n",
    "    x_train.append(random_young)\n",
    "    y_train.append(1)\n",
    "    \n",
    "    random_old = random.randint(65, 100)\n",
    "    x_train.append(random_old)\n",
    "    y_train.append(0)"
   ]
  },
  {
   "cell_type": "code",
   "execution_count": 68,
   "metadata": {},
   "outputs": [
    {
     "name": "stdout",
     "output_type": "stream",
     "text": [
      "(2100,)\n",
      "(2100,)\n"
     ]
    }
   ],
   "source": [
    "x_train = np.array(x_train)\n",
    "y_train = np.array(y_train)\n",
    "\n",
    "print(x_train.shape)\n",
    "print(y_train.shape)"
   ]
  },
  {
   "cell_type": "markdown",
   "metadata": {},
   "source": [
    "## Preprocessing"
   ]
  },
  {
   "cell_type": "code",
   "execution_count": 69,
   "metadata": {},
   "outputs": [
    {
     "name": "stderr",
     "output_type": "stream",
     "text": [
      "e:\\Anaconda3\\lib\\site-packages\\sklearn\\utils\\validation.py:475: DataConversionWarning: Data with input dtype int32 was converted to float64 by MinMaxScaler.\n",
      "  warnings.warn(msg, DataConversionWarning)\n"
     ]
    }
   ],
   "source": [
    "scaler = MinMaxScaler(feature_range=(0, 1))\n",
    "x_train_scaled = scaler.fit_transform((x_train).reshape(-1, 1))"
   ]
  },
  {
   "cell_type": "code",
   "execution_count": 70,
   "metadata": {},
   "outputs": [
    {
     "name": "stdout",
     "output_type": "stream",
     "text": [
      "100\n",
      "13\n",
      "[1.]\n",
      "[0.]\n"
     ]
    }
   ],
   "source": [
    "print(max(x_train))\n",
    "print(min(x_train))\n",
    "print(max(x_train_scaled))\n",
    "print(min(x_train_scaled))"
   ]
  },
  {
   "cell_type": "markdown",
   "metadata": {},
   "source": [
    "## Build NN"
   ]
  },
  {
   "cell_type": "code",
   "execution_count": 71,
   "metadata": {},
   "outputs": [],
   "source": [
    "model = keras.models.Sequential([\n",
    "    Dense(16, input_shape=(1,), activation='relu'),\n",
    "    Dense(32, activation='relu'),\n",
    "    Dense(2, activation='softmax')\n",
    "])"
   ]
  },
  {
   "cell_type": "code",
   "execution_count": 72,
   "metadata": {},
   "outputs": [
    {
     "name": "stdout",
     "output_type": "stream",
     "text": [
      "_________________________________________________________________\n",
      "Layer (type)                 Output Shape              Param #   \n",
      "=================================================================\n",
      "dense_13 (Dense)             (None, 16)                32        \n",
      "_________________________________________________________________\n",
      "dense_14 (Dense)             (None, 32)                544       \n",
      "_________________________________________________________________\n",
      "dense_15 (Dense)             (None, 2)                 66        \n",
      "=================================================================\n",
      "Total params: 642\n",
      "Trainable params: 642\n",
      "Non-trainable params: 0\n",
      "_________________________________________________________________\n"
     ]
    }
   ],
   "source": [
    "model.summary()"
   ]
  },
  {
   "cell_type": "markdown",
   "metadata": {},
   "source": [
    "## Train NN"
   ]
  },
  {
   "cell_type": "code",
   "execution_count": 73,
   "metadata": {},
   "outputs": [],
   "source": [
    "model.compile(Adam(lr=.0001), loss='sparse_categorical_crossentropy', metrics=['accuracy'])"
   ]
  },
  {
   "cell_type": "code",
   "execution_count": 74,
   "metadata": {},
   "outputs": [
    {
     "name": "stdout",
     "output_type": "stream",
     "text": [
      "Train on 1890 samples, validate on 210 samples\n",
      "Epoch 1/20\n",
      "1890/1890 [==============================] - 0s 261us/step - loss: 0.6844 - acc: 0.6011 - val_loss: 0.6675 - val_acc: 0.5524\n",
      "Epoch 2/20\n",
      "1890/1890 [==============================] - 0s 150us/step - loss: 0.6542 - acc: 0.5968 - val_loss: 0.6349 - val_acc: 0.6286\n",
      "Epoch 3/20\n",
      "1890/1890 [==============================] - 0s 156us/step - loss: 0.6264 - acc: 0.6540 - val_loss: 0.6069 - val_acc: 0.6810\n",
      "Epoch 4/20\n",
      "1890/1890 [==============================] - 0s 114us/step - loss: 0.5994 - acc: 0.7085 - val_loss: 0.5761 - val_acc: 0.7333\n",
      "Epoch 5/20\n",
      "1890/1890 [==============================] - 0s 104us/step - loss: 0.5716 - acc: 0.7423 - val_loss: 0.5436 - val_acc: 0.7810\n",
      "Epoch 6/20\n",
      "1890/1890 [==============================] - 0s 105us/step - loss: 0.5407 - acc: 0.7741 - val_loss: 0.5094 - val_acc: 0.8333\n",
      "Epoch 7/20\n",
      "1890/1890 [==============================] - 0s 106us/step - loss: 0.5076 - acc: 0.8090 - val_loss: 0.4699 - val_acc: 0.8476\n",
      "Epoch 8/20\n",
      "1890/1890 [==============================] - 0s 105us/step - loss: 0.4749 - acc: 0.8418 - val_loss: 0.4349 - val_acc: 0.9000\n",
      "Epoch 9/20\n",
      "1890/1890 [==============================] - 0s 108us/step - loss: 0.4457 - acc: 0.8561 - val_loss: 0.4025 - val_acc: 0.9143\n",
      "Epoch 10/20\n",
      "1890/1890 [==============================] - 0s 104us/step - loss: 0.4184 - acc: 0.8778 - val_loss: 0.3707 - val_acc: 0.9190\n",
      "Epoch 11/20\n",
      "1890/1890 [==============================] - 0s 117us/step - loss: 0.3932 - acc: 0.8905 - val_loss: 0.3418 - val_acc: 0.9381\n",
      "Epoch 12/20\n",
      "1890/1890 [==============================] - 0s 105us/step - loss: 0.3708 - acc: 0.9021 - val_loss: 0.3158 - val_acc: 0.9429\n",
      "Epoch 13/20\n",
      "1890/1890 [==============================] - 0s 108us/step - loss: 0.3520 - acc: 0.9063 - val_loss: 0.2937 - val_acc: 0.9429\n",
      "Epoch 14/20\n",
      "1890/1890 [==============================] - 0s 108us/step - loss: 0.3363 - acc: 0.9085 - val_loss: 0.2751 - val_acc: 0.9429\n",
      "Epoch 15/20\n",
      "1890/1890 [==============================] - 0s 107us/step - loss: 0.3235 - acc: 0.9122 - val_loss: 0.2594 - val_acc: 0.9571\n",
      "Epoch 16/20\n",
      "1890/1890 [==============================] - 0s 106us/step - loss: 0.3125 - acc: 0.9206 - val_loss: 0.2440 - val_acc: 0.9571\n",
      "Epoch 17/20\n",
      "1890/1890 [==============================] - 0s 117us/step - loss: 0.3032 - acc: 0.9228 - val_loss: 0.2321 - val_acc: 0.9714\n",
      "Epoch 18/20\n",
      "1890/1890 [==============================] - 0s 104us/step - loss: 0.2961 - acc: 0.9249 - val_loss: 0.2222 - val_acc: 0.9714\n",
      "Epoch 19/20\n",
      "1890/1890 [==============================] - 0s 108us/step - loss: 0.2902 - acc: 0.9275 - val_loss: 0.2127 - val_acc: 0.9714\n",
      "Epoch 20/20\n",
      "1890/1890 [==============================] - 0s 108us/step - loss: 0.2850 - acc: 0.9238 - val_loss: 0.2065 - val_acc: 0.9810\n"
     ]
    },
    {
     "data": {
      "text/plain": [
       "<keras.callbacks.History at 0x1624d76c208>"
      ]
     },
     "execution_count": 74,
     "metadata": {},
     "output_type": "execute_result"
    }
   ],
   "source": [
    "model.fit(x_train_scaled, y_train, validation_split=0.1,\n",
    "          batch_size=10, epochs=20, shuffle=True, verbose=True)"
   ]
  },
  {
   "cell_type": "code",
   "execution_count": null,
   "metadata": {},
   "outputs": [],
   "source": []
  }
 ],
 "metadata": {
  "kernelspec": {
   "display_name": "Python 3",
   "language": "python",
   "name": "python3"
  },
  "language_info": {
   "codemirror_mode": {
    "name": "ipython",
    "version": 3
   },
   "file_extension": ".py",
   "mimetype": "text/x-python",
   "name": "python",
   "nbconvert_exporter": "python",
   "pygments_lexer": "ipython3",
   "version": "3.6.4"
  }
 },
 "nbformat": 4,
 "nbformat_minor": 2
}
